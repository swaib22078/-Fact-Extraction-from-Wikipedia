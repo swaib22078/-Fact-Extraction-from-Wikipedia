{
  "nbformat": 4,
  "nbformat_minor": 0,
  "metadata": {
    "colab": {
      "provenance": []
    },
    "kernelspec": {
      "name": "python3",
      "display_name": "Python 3"
    },
    "language_info": {
      "name": "python"
    }
  },
  "cells": [
    {
      "cell_type": "code",
      "execution_count": 1,
      "metadata": {
        "id": "Xyf6zJjJdoNX",
        "colab": {
          "base_uri": "https://localhost:8080/"
        },
        "outputId": "44565c8f-9d2b-4ed0-b305-cf5b06045480"
      },
      "outputs": [
        {
          "output_type": "stream",
          "name": "stderr",
          "text": [
            "[nltk_data] Downloading package punkt to /root/nltk_data...\n",
            "[nltk_data]   Unzipping tokenizers/punkt.zip.\n"
          ]
        }
      ],
      "source": [
        "import os\n",
        "import re\n",
        "import numpy as np\n",
        "from matplotlib import pyplot as plt\n",
        "from math import *\n",
        "import pandas as pd\n",
        "import nltk\n",
        "nltk.download('punkt')\n",
        "import json\n"
      ]
    },
    {
      "cell_type": "code",
      "source": [
        "from google.colab import drive\n",
        "drive.mount('/content/gdrive')"
      ],
      "metadata": {
        "id": "0nyEbxa6fNVo",
        "colab": {
          "base_uri": "https://localhost:8080/"
        },
        "outputId": "376d0df9-375c-4884-baf7-c1157dbd876b"
      },
      "execution_count": 2,
      "outputs": [
        {
          "output_type": "stream",
          "name": "stdout",
          "text": [
            "Mounted at /content/gdrive\n"
          ]
        }
      ]
    },
    {
      "cell_type": "code",
      "source": [
        "PATH='/content/gdrive/MyDrive/'"
      ],
      "metadata": {
        "id": "OJTVyF9rf5gp"
      },
      "execution_count": 3,
      "outputs": []
    },
    {
      "cell_type": "code",
      "source": [
        "from zipfile import ZipFile"
      ],
      "metadata": {
        "id": "GGZFqb-ggnp3"
      },
      "execution_count": 4,
      "outputs": []
    },
    {
      "cell_type": "code",
      "source": [
        "with ZipFile('/content/gdrive/MyDrive/wiki-pages.zip','r') as zipobj:\n",
        "  zipobj.extractall('gdrive/MyDrive/wiki_unzip')"
      ],
      "metadata": {
        "id": "gtn2jnzdgpky"
      },
      "execution_count": 5,
      "outputs": []
    },
    {
      "cell_type": "code",
      "source": [
        "import string"
      ],
      "metadata": {
        "id": "NM0A61jwuqvc"
      },
      "execution_count": 6,
      "outputs": []
    },
    {
      "cell_type": "code",
      "source": [
        "def n_dict_subtask1(filepath):\n",
        "    '''\n",
        "    The input is the path of wiki-pages.\n",
        "    The output is a dictionary which the key is the terms and the value is the freuquency.\n",
        "    The output is 90MB so it is not including in the file.\n",
        "    '''\n",
        "    n_dict = {}\n",
        "    files = os.listdir(filepath)\n",
        "    for i in files:\n",
        "        with open(os.path.join(filepath, i)) as fp:\n",
        "            lines = fp.readlines()\n",
        "            for line in lines:\n",
        "                # Assuming that `line` is a string representing a JSON object\n",
        "                data = json.loads(line)\n",
        "                text = data.get('text', '')  # Get the value associated with the 'text' key, or an empty string if the key is not present\n",
        "\n",
        "                words = nltk.word_tokenize(text)\n",
        "                for w in words:\n",
        "                    # Define a regular expression pattern that matches the substrings to be removed\n",
        "                    pattern = r\"-LRB-|-RRB-|-LSB-|-RSB-|--\"\n",
        "                    # Use the re.sub() function to replace all matches with an empty string\n",
        "                    w = re.sub(pattern, \"\", w)\n",
        "                    w = w.lower()\n",
        "                   # w = re.sub(\"[,.。:_=+*&^%$#@!?()<>/`';|]\", \"\", w) ## replace the noisy with space. \n",
        "                    translator = str.maketrans('', '', string.punctuation)\n",
        "                    w = w.translate(translator) \n",
        "                    if  w in n_dict:\n",
        "                        n_dict[w]+= 1\n",
        "                    else:\n",
        "                        n_dict[w] = 1 ## count the frequencies of every term.\n",
        "    np.save(PATH + \"n_dict_Subtask1.npy\",n_dict)\n",
        "    print ('save complete')"
      ],
      "metadata": {
        "id": "hiLr4zVVgOpi"
      },
      "execution_count": 7,
      "outputs": []
    },
    {
      "cell_type": "code",
      "source": [
        "n_dict_subtask1('/content/gdrive/MyDrive/wiki_unzip/wiki-pages')"
      ],
      "metadata": {
        "id": "x495PWA5gUQD"
      },
      "execution_count": null,
      "outputs": []
    },
    {
      "cell_type": "code",
      "source": [
        "import matplotlib.pyplot as plt\n",
        "from collections import Counter"
      ],
      "metadata": {
        "id": "lRSbjJBJ1iZy"
      },
      "execution_count": 14,
      "outputs": []
    },
    {
      "cell_type": "code",
      "source": [
        "def Subtask1(n_dict_npy):\n",
        "    '''\n",
        "    The input is the path of n_dict_Subtask1.npy.\n",
        "    The output is the Zipf's Law graph and the CSV of all the terms and there frequencies.\n",
        "    The output is 300MB so it is not including in the file. I extract the result of top 500 terms and save it in the file as 'Q1_term_frequency.csv'.\n",
        "    '''\n",
        "    n_dict = np.load(n_dict_npy, allow_pickle=True).item()\n",
        "    data = sorted(n_dict.items(), key=lambda item:n_dict[item[0]], reverse=True) ## sort the data.\n",
        "    total = 0\n",
        "    for d in data:\n",
        "        total += d[1] ## count the total number of words.\n",
        "    df = pd.DataFrame(data, columns = ['term','Freq'])[1:] #exclude 'space'\n",
        "    df['rank'] = df.index\n",
        "    df['Pr(%)'] = df['Freq'].div(total)*100\n",
        "    df['r*Pr'] = df['rank']*df['Pr(%)']/100\n",
        "    df_plot =df[:100] ## plot the top 100 terms.\n",
        "    # data = data[:100]\n",
        "    plt.plot(df_plot['rank'],df_plot['Pr(%)'],'b-')\n",
        "    plt.plot(np.arange(0,100,1),10/np.arange(0,100,1),'r:')\n",
        "    # plt.plot([d[0] for d in data], [d[1] / total for d in data])\n",
        "    plt.yticks(np.arange(0,10,0.5))\n",
        "    plt.xticks(np.arange(0,101,10))\n",
        "    plt.ylabel('Probability(%)')\n",
        "    plt.xlabel('Rank (by decreasing frequency)')\n",
        "    plt.title(\"Zipf's Law\")\n",
        "    plt.show()\n",
        "    # plt.savefig('res.jpg')\n",
        "    print(total)\n",
        "    print(df.head(25))\n",
        "    df.to_csv(PATH + 'Subtask1.csv')"
      ],
      "metadata": {
        "id": "D9pI4RwlFwZI"
      },
      "execution_count": 22,
      "outputs": []
    },
    {
      "cell_type": "code",
      "source": [
        "Subtask1('/content/gdrive/MyDrive/wiki-pages.zipn_dict_Subtask1.npy')"
      ],
      "metadata": {
        "id": "0PCQS6BioGAU",
        "colab": {
          "base_uri": "https://localhost:8080/",
          "height": 798
        },
        "outputId": "e9582a5d-03b1-45ed-cd4d-125d127a48d9"
      },
      "execution_count": 23,
      "outputs": [
        {
          "output_type": "stream",
          "name": "stderr",
          "text": [
            "<ipython-input-22-9447e3d9aaf7>:19: RuntimeWarning: divide by zero encountered in true_divide\n",
            "  plt.plot(np.arange(0,100,1),10/np.arange(0,100,1),'r:')\n"
          ]
        },
        {
          "output_type": "display_data",
          "data": {
            "text/plain": [
              "<Figure size 432x288 with 1 Axes>"
            ],
            "image/png": "[encoded data removed]"
          },
          "metadata": {
            "needs_background": "light"
          }
        },
        {
          "output_type": "stream",
          "name": "stdout",
          "text": [
            "530598188\n",
            "     term      Freq  rank     Pr(%)      r*Pr\n",
            "1     the  30746674     1  5.794719  0.057947\n",
            "2      of  16098465     2  3.034022  0.060680\n",
            "3      in  14520729     3  2.736671  0.082100\n",
            "4     and  12695179     4  2.392616  0.095705\n",
            "5       a  10797630     5  2.034992  0.101750\n",
            "6      is   7881498     6  1.485399  0.089124\n",
            "7      to   6671325     7  1.257321  0.088013\n",
            "8     was   5991677     8  1.129231  0.090338\n",
            "9      as   3604873     9  0.679398  0.061146\n",
            "10     by   3515931    10  0.662635  0.066264\n",
            "11    for   3511554    11  0.661810  0.072799\n",
            "12     on   3263504    12  0.615061  0.073807\n",
            "13     it   2937235    13  0.553570  0.071964\n",
            "14     he   2834309    14  0.534172  0.074784\n",
            "15   with   2476939    15  0.466820  0.070023\n",
            "16   from   2384877    16  0.449469  0.071915\n",
            "17      s   2357221    17  0.444257  0.075524\n",
            "18     at   2355759    18  0.443982  0.079917\n",
            "19     an   2220574    19  0.418504  0.079516\n",
            "20    his   1684892    20  0.317546  0.063509\n",
            "21   that   1530877    21  0.288519  0.060589\n",
            "22   also   1291171    22  0.243343  0.053535\n",
            "23    are   1233824    23  0.232535  0.053483\n",
            "24  which   1173114    24  0.221093  0.053062\n",
            "25    has   1144364    25  0.215674  0.053919\n"
          ]
        }
      ]
    }
  ]
}